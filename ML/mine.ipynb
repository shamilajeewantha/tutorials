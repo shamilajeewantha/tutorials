{
 "cells": [
  {
   "cell_type": "markdown",
   "id": "dda0e25f-476a-43c0-b3e7-f96a707be566",
   "metadata": {
    "deletable": false,
    "editable": false
   },
   "source": [
    "# <center>Recurrent Neural Networks</center>\n",
    "## <center>Inclass Project 3 - MA4144</center>\n",
    "\n",
    "This project contains 10 tasks/questions to be completed, some require written answers. Open a markdown cell below the respective question that require written answers and provide (type) your answers. Questions that required written answers are given in blue fonts. Almost all written questions are open ended, they do not have a correct or wrong answer. You are free to give your opinions, but please provide related answers within the context.\n",
    "\n",
    "After finishing project run the entire notebook once and **save the notebook as a pdf** (File menu -> Save and Export Notebook As -> PDF). You are **required to upload this PDF on moodle**.\n",
    "\n",
    "***"
   ]
  },
  {
   "cell_type": "markdown",
   "id": "03930b71-f7aa-4eb8-a078-70fc89a1ac16",
   "metadata": {
    "deletable": false,
    "editable": false
   },
   "source": [
    "## Outline of the project\n",
    "\n",
    "The aim of the project is to build a RNN model to suggest autocompletion of half typed words. You may have seen this in many day today applications; typing an email, a text message etc. For example, suppose you type in the four letter \"univ\", the application may suggest you to autocomplete it by \"university\".\n",
    "\n",
    "![Autocomplete](https://d33v4339jhl8k0.cloudfront.net/docs/assets/5c12e83004286304a71d5b72/images/66d0cb106eb51e63b8f9fbc6/file-gBQe016VYt.gif)\n",
    "\n",
    "We will train a RNN to suggest possible autocompletes given $3$ - $4$ starting letters. That is if we input a string \"univ\" hopefully we expect to see an output like \"university\", \"universal\" etc.\n",
    "\n",
    "For this we will use a text file (wordlist.txt) containing 10,000 common English words (you'll find the file on the moodle link). The list of words will be the \"**vocabulary**\" for our model.\n",
    "\n",
    "We will use the Python **torch library** to implement our autocomplete model. \n",
    "\n",
    "***\n"
   ]
  },
  {
   "cell_type": "markdown",
   "id": "f4db6bc0-f7e0-473d-a172-e6579deea2ee",
   "metadata": {
    "deletable": false,
    "editable": false
   },
   "source": [
    "Use the below cell to use any include any imports"
   ]
  },
  {
   "cell_type": "code",
   "execution_count": 28,
   "id": "76fdc286-3211-4a8f-9802-29d28a324bea",
   "metadata": {},
   "outputs": [],
   "source": [
    "import torch\n",
    "import torch.nn as nn\n",
    "import torch.optim as optim\n",
    "import numpy as np\n",
    "import matplotlib.pyplot as plt\n",
    "import random\n",
    "import pandas as pd"
   ]
  },
  {
   "cell_type": "markdown",
   "id": "8622b61b-dba8-47bb-8e07-92b77e78f4fa",
   "metadata": {
    "deletable": false,
    "editable": false
   },
   "source": [
    "## Section 1: Preparing the vocabulary"
   ]
  },
  {
   "cell_type": "code",
   "execution_count": 11,
   "id": "555a82e5-e56c-4075-a2a2-071633cd4d4c",
   "metadata": {},
   "outputs": [],
   "source": [
    "WORD_SIZE = 13"
   ]
  },
  {
   "cell_type": "markdown",
   "id": "ef4f44ef-91d0-4d0e-afb5-a66240c9e1d4",
   "metadata": {
    "deletable": false,
    "editable": false
   },
   "source": [
    "**Q1.** In the following cell provide code to load the text file (each word is in a newline), then extract the words (in lowercase) into a list.\n",
    "\n",
    "For practical reasons of training the model we will only use words that are longer that $3$ letters and that have a maximum length of WORD_SIZE (this will be a constant we set at the beginning - you can change this and experiment with different WORD_SIZEs). As seen above it is set to $13$.\n",
    "\n",
    "So out of the extracted list of words filter out those words that match our criteria on word length.\n",
    "\n",
    "To train our model it is convenient to have words/strings of equal length. We will choose to convert every word to length of WORD_SIZE, by adding underscores to the end of the word if it is initially shorter than WORD_SIZE. For example, we will convert the word \"university\" (word length 10) into \"university___\" (wordlength 13). In your code include this conversion as well.\n",
    "\n",
    "Store the processed WORD_SIZE lengthed strings in a list called vocab."
   ]
  },
  {
   "cell_type": "code",
   "execution_count": 19,
   "id": "3219551c-a298-424a-a491-2d7f65a4ad6f",
   "metadata": {},
   "outputs": [
    {
     "name": "stdout",
     "output_type": "stream",
     "text": [
      "Number of words in vocabulary: 8847\n",
      "['mozilla______', 'jones________', 'enables______', 'editions_____', 'servers______', 'name_________', 'trusts_______', 'central______', 'fruits_______', 'global_______', 'numerical____', 'conventional_', 'remainder____', 'source_______', 'jessica______', 'anti_________', 'favorite_____', 'historic_____', 'advanced_____', 'introduced___']\n"
     ]
    }
   ],
   "source": [
    "# Function to load and process the text file\n",
    "def load_and_process_words(file_path):\n",
    "    vocab = []\n",
    "    \n",
    "    with open(file_path, 'r') as file:\n",
    "        # Read each word from the file\n",
    "        words = file.read().splitlines()\n",
    "        \n",
    "        # Process each word\n",
    "        for word in words:\n",
    "            word = word.lower()  # Convert to lowercase\n",
    "            \n",
    "            # Filter words with length between 4 and WORD_SIZE (inclusive)\n",
    "            if 3 < len(word) <= WORD_SIZE:\n",
    "                # If word is shorter than WORD_SIZE, pad with underscores\n",
    "                word = word.ljust(WORD_SIZE, '_')\n",
    "                vocab.append(word)\n",
    "    \n",
    "    return vocab\n",
    "\n",
    "file_path = 'wordlist.txt'\n",
    "vocab = load_and_process_words(file_path)\n",
    "print('Number of words in vocabulary:', len(vocab))\n",
    "# Print 20 random words from the vocabulary\n",
    "random_words = random.sample(vocab, 20)\n",
    "print(random_words)\n"
   ]
  },
  {
   "cell_type": "markdown",
   "id": "69d3a6fe-c0a7-4808-aa1a-4c3ad6db6de3",
   "metadata": {
    "deletable": false,
    "editable": false
   },
   "source": [
    "<font color='blue'>In the above explanation it was mentioned \"for practical reasons of training the model we will only use words that are longer that $3$ letters and that have a certain maximum length\". In your opinion what could be those practical? Will hit help to build a better model?</font>"
   ]
  },
  {
   "cell_type": "markdown",
   "id": "aaf86cdd-96b2-40eb-8230-c3f04e93cfc4",
   "metadata": {},
   "source": [
    "**Answer** (to write answers edit this cell)\n",
    "\n",
    "Words shorter than 4 letters are often less informative and by removing these short words we can reduce the dimensionality of the input space, making the model more efficient and helping it focus on more meaningful, content-rich words.\n",
    "\n",
    "Sequence-based tasks often expect input sequences to have uniform dimensions to simplify matrix operations for efficient processing. Padding words to a fixed length of 13 ensures that the model deals with a fixed input size, which allows for efficient use of memory, better generalization and stability."
   ]
  },
  {
   "cell_type": "markdown",
   "id": "552b2e6d-f771-4782-8b21-73c121565faa",
   "metadata": {
    "deletable": false,
    "editable": false
   },
   "source": [
    "**Q2** To input words into the model, we will need to convert each letter/character into a number. as we have seen above, the only characters in our list vocab will be the underscore and lowercase english letters. so we will convert these $27$ characters into numbers as follows: underscore -> $0$, 'a' -> $1$, 'b' -> $2$, $\\cdots$, 'z' -> $26$. In the following cell,\n",
    "\n",
    "(i) Implement a method called char_to_num, that takes in a valid character and outputs its numerical assignment.\n",
    "\n",
    "(ii) Implement a method called num_to_char, that takes in a valid number from $0$ to $26$ and outputs the corresponding character.\n",
    "\n",
    "(iii) Implement a method called word_to_numlist, that takes in a word from our vocabulary and outputs a (torch) tensor of numbers that corresponds to each character in the word in that order. For example: the word \"united_______\" will be converted to tensor([21, 14,  9, 20,  5,  4,  0,  0,  0,  0,  0,  0,  0]). You are encouraged to use your char_to_num method for this.\n",
    "\n",
    "(iv) Implement a method called numlist_to_word, that does the opposite of the above described word_to_numlist, given a tensor of numbers from $0$ to $26$, outputs the corresponding word. You are encouraged to use your  num_to_char method for this.\n",
    "\n",
    "Note: As mentioned since we are using the torch library we will be using tensors instead of the usual python lists or numpy arrays. Tensors are the list equivalent in torch. Torch models only accept tensors as input and they output tensors."
   ]
  },
  {
   "cell_type": "code",
   "execution_count": 13,
   "id": "054a4ab4-5883-4948-adc5-eb8916b6234d",
   "metadata": {},
   "outputs": [
    {
     "name": "stdout",
     "output_type": "stream",
     "text": [
      "Word to numlist: tensor([21, 14,  9, 20,  5,  4,  0,  0,  0,  0,  0,  0,  0])\n",
      "Numlist to word: united_______\n"
     ]
    }
   ],
   "source": [
    "# (i) Convert character to a number\n",
    "def char_to_num(char):\n",
    "    if char == '_':\n",
    "        return 0\n",
    "    else:\n",
    "        return ord(char) - ord('a') + 1\n",
    "\n",
    "# (ii) Convert number to character\n",
    "def num_to_char(num):\n",
    "    if num == 0:\n",
    "        return '_'\n",
    "    else:\n",
    "        return chr(num + ord('a') - 1)\n",
    "\n",
    "# (iii) Convert a word to a list of numbers (tensor)\n",
    "def word_to_numlist(word):\n",
    "    numlist = [char_to_num(char) for char in word]  # Convert each character in the word\n",
    "    return torch.tensor(numlist, dtype=torch.long)  # Convert the list to a torch tensor\n",
    "\n",
    "# (iv) Convert a list of numbers (tensor) back to a word\n",
    "def numlist_to_word(numlist):\n",
    "    chars = [num_to_char(num.item()) for num in numlist]  # Convert each number back to a character\n",
    "    return ''.join(chars)  # Join the characters back into a string\n",
    "\n",
    "word = \"united_______\"\n",
    "numlist = word_to_numlist(word)\n",
    "print(\"Word to numlist:\", numlist)\n",
    "\n",
    "reconstructed_word = numlist_to_word(numlist)\n",
    "print(\"Numlist to word:\", reconstructed_word)"
   ]
  },
  {
   "cell_type": "markdown",
   "id": "028d1936-fadb-4ddb-9027-3a75960aa6b1",
   "metadata": {
    "deletable": false,
    "editable": false
   },
   "source": [
    "<font color='blue'>We convert letter into just numbers based on their aphabetical order, I claim that it is a very bad way to encode data such as letters to be fed into learning models, please write your explanation to or against my claim. If you are searching for reasons, the keyword 'categorical data' may be useful. Although the letters in our case are not treated as categorical data, the same reasons as for categorical data is applicable. Even if my claim is valid, at the end it won't matter due to something called \"embedding layers\" that we will use in our model. What is an embedding layer? What is it's purpose? Explain.</font>"
   ]
  },
  {
   "cell_type": "markdown",
   "id": "65de3f69-cd06-4adc-8150-2522802f345a",
   "metadata": {},
   "source": [
    "**Answer** (to write answers edit this cell)\n",
    "\n",
    "An ordinal relationship is introduced when we assign numbers to letters based on their alphabetical order that doesn’t actually exist between letters. For instance, the difference between b and c is treated as the same as the difference between a and b, which may imply some kind of linear relationship. Further, the distance between a (1) and z (26) is far greater than the distance between a (1) and b (2). This implies that a and z are very different, which might not always be true in the context of word prediction. In addition a loss of Contextual and positional information is also possible.\n",
    "\n",
    "An Embedding Layer is a part of machine learning models that allows the processing and reduction of high-dimensional categorical data into a lower-dimensional space. The purpose of an embedding layer is to transform categorical data (like letters or words) into dense vectors in a continuous vector space, where relationships between the data can be learned and represented in a meaningful way.\n",
    "\n",
    "An embedding layer takes sparse inputs (like numbers representing letters) and converts them into dense, low-dimensional vectors. For example, instead of representing \"a\" as 1, \"b\" as 2, etc., the embedding layer will learn to represent each letter or word as a vector of numbers, such as [0.1, 0.2, -0.3] for one letter. During training, the embedding layer adjusts these vector representations so that similar entities are closer together in this learned space. Unlike raw numerical encoding, embedding layers do not impose any ordinal structure on the data. The embedding vectors are learned from data in a way that captures patterns and relationships without assuming an inherent numerical order.\n",
    "\n",
    "Embedding layers also allow for dimensionality reduction. Instead of representing a large vocabulary (or alphabet) as sparse one-hot vectors or numbers, an embedding layer can map them into a much smaller-dimensional space, making the computation more efficient.\n",
    "\n"
   ]
  },
  {
   "cell_type": "markdown",
   "id": "92070a74-0f42-435d-a3ba-b38f0d1aaf3c",
   "metadata": {
    "deletable": false,
    "editable": false
   },
   "source": [
    "## Section 2: Implementing the Autocomplete model"
   ]
  },
  {
   "cell_type": "markdown",
   "id": "6cbb965e-afcd-41ae-86f0-2f3d4682e18b",
   "metadata": {
    "deletable": false,
    "editable": false
   },
   "source": [
    "We will implement a RNN model based on LSTM. The [video tutorial](https://www.youtube.com/watch?v=tL5puCeDr-o) will be useful. Our model will be only one hidden layer, but feel free to sophisticate with more layers after the project for your own experiments.\n",
    "\n",
    "Our model will contain all the training and prediction methods as single package in a class (autocompleteModel) we will define and implement below."
   ]
  },
  {
   "cell_type": "code",
   "execution_count": 14,
   "id": "0dfe311c-669d-4d58-a833-ae3970b6d271",
   "metadata": {},
   "outputs": [],
   "source": [
    "LEARNING_RATE = 0.005"
   ]
  },
  {
   "cell_type": "code",
   "execution_count": 18,
   "id": "4976fc91-2c4e-497a-954e-9014dd31be5e",
   "metadata": {},
   "outputs": [],
   "source": [
    "class autocompleteModel(nn.Module):\n",
    "\n",
    "    def __init__(self, alphabet_size, embed_dim, hidden_size, num_layers, device):\n",
    "        super().__init__()\n",
    "\n",
    "        self.device = device  # Device to use (CPU or GPU)\n",
    "        self.alphabet_size = alphabet_size\n",
    "        self.embed_dim = embed_dim\n",
    "        self.hidden_size = hidden_size\n",
    "        self.num_layers = num_layers\n",
    "\n",
    "        # Initialize the layers in the model\n",
    "        self.embedding = nn.Embedding(alphabet_size, embed_dim).to(self.device)\n",
    "        self.lstm = nn.LSTM(embed_dim, hidden_size, num_layers).to(self.device)\n",
    "        self.fc = nn.Linear(hidden_size, alphabet_size).to(self.device)\n",
    "\n",
    "    def forward(self, character, hidden_state, cell_state):\n",
    "        embedded = self.embedding(character).to(self.device)\n",
    "        lstm_out, (hidden_state, cell_state) = self.lstm(embedded.view(1, 1, -1), (hidden_state, cell_state))\n",
    "        output = self.fc(lstm_out.view(1, -1))\n",
    "        return output, hidden_state, cell_state\n",
    "\n",
    "    def initial_state(self):\n",
    "        h0 = torch.zeros(self.num_layers, 1, self.hidden_size).to(self.device)\n",
    "        c0 = torch.zeros(self.num_layers, 1, self.hidden_size).to(self.device)\n",
    "        return (h0, c0)\n",
    "\n",
    "    def trainModel(self, vocab, epochs=5, batch_size=100, learning_rate=0.005):\n",
    "        self.train()\n",
    "        optimizer = optim.Adam(self.parameters(), lr=learning_rate)\n",
    "        criterion = nn.CrossEntropyLoss().to(self.device)\n",
    "        \n",
    "        # Log for tracking batch-wise loss\n",
    "        batch_loss_log = []\n",
    "\n",
    "        # Iterate over epochs\n",
    "        for e in range(epochs):\n",
    "            random.shuffle(vocab)\n",
    "\n",
    "            # Iterate over the vocabulary in batches\n",
    "            for i in range(0, len(vocab), batch_size):\n",
    "                vocab_batch = vocab[i:i + batch_size]\n",
    "                optimizer.zero_grad()\n",
    "                batch_loss = 0\n",
    "\n",
    "                # Iterate over each word in the batch\n",
    "                for word in vocab_batch:\n",
    "                    hidden_state, cell_state = self.initial_state()\n",
    "                    word_tensor = word_to_numlist(word).to(self.device)  # Move word tensor to device\n",
    "\n",
    "                    # Input characters are all characters except the last\n",
    "                    input_chars = word_tensor[:-1]\n",
    "                    # Target characters are the characters following the input characters\n",
    "                    target_chars = word_tensor[1:]\n",
    "\n",
    "                    for c in range(WORD_SIZE - 1):\n",
    "                        input_char = input_chars[c].unsqueeze(0).to(self.device)\n",
    "                        target_char = target_chars[c].unsqueeze(0).to(self.device)\n",
    "\n",
    "                        # Forward pass\n",
    "                        output, hidden_state, cell_state = self.forward(input_char, hidden_state, cell_state)\n",
    "                        \n",
    "                        # Calculate loss\n",
    "                        loss = criterion(output, target_char)\n",
    "                        batch_loss += loss\n",
    "\n",
    "                # Normalize batch loss\n",
    "                batch_loss /= len(vocab_batch)\n",
    "                batch_loss.backward()\n",
    "                optimizer.step()\n",
    "\n",
    "                # Log batch loss\n",
    "                batch_loss_log.append(batch_loss.item())\n",
    "\n",
    "            print(f\"Epoch {e+1}, Loss: {batch_loss.item()}\")\n",
    "\n",
    "        # Plot batch-wise loss\n",
    "        plt.plot(batch_loss_log)\n",
    "        plt.xlabel(\"Batch Iteration\")\n",
    "        plt.ylabel(\"Loss\")\n",
    "        plt.title(\"Batch-wise Training Loss\")\n",
    "        plt.show()\n",
    "\n",
    "        return batch_loss_log\n",
    "\n",
    "\n",
    "    def autocomplete(self, sample):\n",
    "        self.eval()\n",
    "        completed_list = []\n",
    "\n",
    "        for literal in sample:\n",
    "            padded_literal = literal.ljust(WORD_SIZE, '_')\n",
    "            input_tensor = word_to_numlist(padded_literal).to(self.device)\n",
    "\n",
    "            hidden_state, cell_state = self.initial_state()\n",
    "            predicted_word = literal\n",
    "\n",
    "            for i in range(len(literal)):\n",
    "                input_char = input_tensor[i].unsqueeze(0).to(self.device)\n",
    "                output, hidden_state, cell_state = self.forward(input_char, hidden_state, cell_state)\n",
    "\n",
    "            for i in range(len(literal), WORD_SIZE):\n",
    "                probabilities = torch.softmax(output, dim=1)\n",
    "                predicted_char = torch.multinomial(probabilities, 1).item()\n",
    "                predicted_word += num_to_char(predicted_char)\n",
    "\n",
    "                input_char = torch.tensor([predicted_char]).unsqueeze(0).to(self.device)\n",
    "                output, hidden_state, cell_state = self.forward(input_char, hidden_state, cell_state)\n",
    "\n",
    "            completed_list.append(predicted_word)\n",
    "\n",
    "        return completed_list\n",
    "\n",
    "\n"
   ]
  },
  {
   "cell_type": "markdown",
   "id": "1f9b5489-b770-4519-b20c-4f2beebfb8f9",
   "metadata": {
    "deletable": false,
    "editable": false
   },
   "source": [
    "## Section 3: Using and evaluating the model\n",
    "\n",
    "(i) Feel free to initialize a autocompleteModel using different embedding dimensions and hidden layer sizes. Use different learning rates, epochs, batch sizes. Train the best model you can. Show the loss curves in you answers.\n",
    "\n",
    "(ii) Evaluate it on different samples of partially filled in words. Eg: [\"univ\", \"math\", \"neur\", \"engin\"] etc. Please show outputs for different samples.\n",
    "\n",
    "<font color='blue'>Comment on the results. Is it successful? Do you see familiar substrings in the generated tesxt such as \"tion\", \"ing\", \"able\" etc. What are your suggestions to improve the model?</font>"
   ]
  },
  {
   "cell_type": "markdown",
   "id": "76c9ee6e-b6bd-4e6e-95fe-2c34b788d433",
   "metadata": {},
   "source": [
    "**Answer** (to write answers edit this cell)\n",
    "\n",
    "The model is mostly successful. Yes very common substrings and suffixes were predicted to given text. \n",
    "\n",
    "To improve,\n",
    "A larger and more diverse training dataset could be used to expose the model to a greater variety of word patterns.\n",
    "Using larger embedding dimensions to allow the model to capture more intricate relationships.\n",
    "Increasing the hidden size or adding additional layers or use a different architecture.\n"
   ]
  },
  {
   "cell_type": "code",
   "execution_count": 16,
   "id": "f6e16d6b-6460-4fce-8757-aac766683e53",
   "metadata": {},
   "outputs": [
    {
     "name": "stdout",
     "output_type": "stream",
     "text": [
      "Device: cuda\n",
      "model initialized\n",
      "Epoch 1, Loss: 23.38127899169922\n",
      "Epoch 2, Loss: 19.016632080078125\n",
      "Epoch 3, Loss: 18.157270431518555\n",
      "Epoch 4, Loss: 17.34376335144043\n",
      "Epoch 5, Loss: 15.696905136108398\n"
     ]
    },
    {
     "data": {
      "image/png": "[encoded data removed]",
      "text/plain": [
       "<Figure size 640x480 with 1 Axes>"
      ]
     },
     "metadata": {},
     "output_type": "display_data"
    },
    {
     "name": "stdout",
     "output_type": "stream",
     "text": [
      "training completed\n"
     ]
    }
   ],
   "source": [
    "device = torch.device(\"cuda\" if torch.cuda.is_available() else \"cpu\")\n",
    "print(\"Device:\", device)\n",
    "\n",
    "# Initialize the model\n",
    "model = autocompleteModel(alphabet_size=27, embed_dim=16, hidden_size=32, num_layers=1, device=device)\n",
    "print(\"model initialized\")\n",
    "\n",
    "# # Train the model using the vocab\n",
    "model.trainModel(vocab, epochs=5, batch_size=100)\n",
    "print(\"training completed\")"
   ]
  },
  {
   "cell_type": "code",
   "execution_count": 31,
   "id": "f7cca205-dd3f-4ca3-9d74-8fb355b1f471",
   "metadata": {},
   "outputs": [],
   "source": [
    "# Test the model\n",
    "def test_model(model):\n",
    "    \"\"\"\n",
    "    This function tests the autocomplete model using a predefined sample of words.\n",
    "    \n",
    "    Parameters:\n",
    "        model: The trained autocomplete model.\n",
    "    \n",
    "    Returns:\n",
    "        None\n",
    "    \"\"\"\n",
    "    \n",
    "    # Example 50-word sample input list for inference\n",
    "    sample = [\n",
    "        \"univ\", \"math\", \"neur\", \"engin\", \"tran\", \"explor\", \"creat\", \"devel\", \"solut\", \"commu\",\n",
    "        \"inno\", \"navig\", \"advent\", \"analy\", \"opti\", \"net\", \"vis\", \"tranquil\", \"experi\", \"futur\",\n",
    "        \"connec\", \"myst\", \"inter\", \"comput\", \"const\", \"gener\", \"innov\", \"system\", \"quant\", \"tech\",\n",
    "        \"biolog\", \"synth\", \"artif\", \"medic\", \"inform\", \"theor\", \"physic\", \"chem\", \"astro\", \"micro\",\n",
    "        \"macro\", \"probab\", \"struct\", \"bioeng\", \"transf\", \"algor\", \"neuro\", \"cognit\", \"planet\", \"eco\"\n",
    "    ]\n",
    "\n",
    "    # Assuming model.autocomplete returns a list of completed words\n",
    "    completed_words = model.autocomplete(sample)\n",
    "\n",
    "    # Combine input words and predictions into a DataFrame\n",
    "    data = {\n",
    "        'Input Word': sample,\n",
    "        'Prediction': completed_words\n",
    "    }\n",
    "\n",
    "    # Create a DataFrame from the combined data\n",
    "    results_df = pd.DataFrame(data)\n",
    "\n",
    "    # Reshape DataFrame to have 5 columns with 10 rows each\n",
    "    num_rows = 10\n",
    "    num_columns = 5\n",
    "    reshaped_data = []\n",
    "\n",
    "    # Fill the reshaped_data with pairs of input and predictions\n",
    "    for i in range(num_rows):\n",
    "        row_data = []\n",
    "        for j in range(num_columns):\n",
    "            idx = i + j * num_rows\n",
    "            if idx < len(results_df):\n",
    "                row_data.append(f\"{results_df['Input Word'].iloc[idx]} -> {results_df['Prediction'].iloc[idx]}\")\n",
    "            else:\n",
    "                row_data.append(\"\")  # Handle cases where there are not enough words\n",
    "        reshaped_data.append(row_data)\n",
    "\n",
    "    # Create a new DataFrame from the reshaped data\n",
    "    final_df = pd.DataFrame(reshaped_data, columns=[f'Column {i+1}' for i in range(num_columns)])\n",
    "\n",
    "    # Display the final DataFrame\n",
    "    display(final_df.style.set_properties(**{'text-align': 'left'}))\n",
    "\n"
   ]
  },
  {
   "cell_type": "code",
   "execution_count": 32,
   "id": "7bd4ed84-c437-48ab-94df-59836f84fce5",
   "metadata": {},
   "outputs": [
    {
     "data": {
      "text/html": [
       "<style type=\"text/css\">\n",
       "#T_5dd78_row0_col0, #T_5dd78_row0_col1, #T_5dd78_row0_col2, #T_5dd78_row0_col3, #T_5dd78_row0_col4, #T_5dd78_row1_col0, #T_5dd78_row1_col1, #T_5dd78_row1_col2, #T_5dd78_row1_col3, #T_5dd78_row1_col4, #T_5dd78_row2_col0, #T_5dd78_row2_col1, #T_5dd78_row2_col2, #T_5dd78_row2_col3, #T_5dd78_row2_col4, #T_5dd78_row3_col0, #T_5dd78_row3_col1, #T_5dd78_row3_col2, #T_5dd78_row3_col3, #T_5dd78_row3_col4, #T_5dd78_row4_col0, #T_5dd78_row4_col1, #T_5dd78_row4_col2, #T_5dd78_row4_col3, #T_5dd78_row4_col4, #T_5dd78_row5_col0, #T_5dd78_row5_col1, #T_5dd78_row5_col2, #T_5dd78_row5_col3, #T_5dd78_row5_col4, #T_5dd78_row6_col0, #T_5dd78_row6_col1, #T_5dd78_row6_col2, #T_5dd78_row6_col3, #T_5dd78_row6_col4, #T_5dd78_row7_col0, #T_5dd78_row7_col1, #T_5dd78_row7_col2, #T_5dd78_row7_col3, #T_5dd78_row7_col4, #T_5dd78_row8_col0, #T_5dd78_row8_col1, #T_5dd78_row8_col2, #T_5dd78_row8_col3, #T_5dd78_row8_col4, #T_5dd78_row9_col0, #T_5dd78_row9_col1, #T_5dd78_row9_col2, #T_5dd78_row9_col3, #T_5dd78_row9_col4 {\n",
       "  text-align: left;\n",
       "}\n",
       "</style>\n",
       "<table id=\"T_5dd78\">\n",
       "  <thead>\n",
       "    <tr>\n",
       "      <th class=\"blank level0\" >&nbsp;</th>\n",
       "      <th id=\"T_5dd78_level0_col0\" class=\"col_heading level0 col0\" >Column 1</th>\n",
       "      <th id=\"T_5dd78_level0_col1\" class=\"col_heading level0 col1\" >Column 2</th>\n",
       "      <th id=\"T_5dd78_level0_col2\" class=\"col_heading level0 col2\" >Column 3</th>\n",
       "      <th id=\"T_5dd78_level0_col3\" class=\"col_heading level0 col3\" >Column 4</th>\n",
       "      <th id=\"T_5dd78_level0_col4\" class=\"col_heading level0 col4\" >Column 5</th>\n",
       "    </tr>\n",
       "  </thead>\n",
       "  <tbody>\n",
       "    <tr>\n",
       "      <th id=\"T_5dd78_level0_row0\" class=\"row_heading level0 row0\" >0</th>\n",
       "      <td id=\"T_5dd78_row0_col0\" class=\"data row0 col0\" >univ -> univuinon____</td>\n",
       "      <td id=\"T_5dd78_row0_col1\" class=\"data row0 col1\" >inno -> innonrode____</td>\n",
       "      <td id=\"T_5dd78_row0_col2\" class=\"data row0 col2\" >connec -> connecrmtitat</td>\n",
       "      <td id=\"T_5dd78_row0_col3\" class=\"data row0 col3\" >biolog -> biologiont___</td>\n",
       "      <td id=\"T_5dd78_row0_col4\" class=\"data row0 col4\" >macro -> macrouniox___</td>\n",
       "    </tr>\n",
       "    <tr>\n",
       "      <th id=\"T_5dd78_level0_row1\" class=\"row_heading level0 row1\" >1</th>\n",
       "      <td id=\"T_5dd78_row1_col0\" class=\"data row1 col0\" >math -> mathironm____</td>\n",
       "      <td id=\"T_5dd78_row1_col1\" class=\"data row1 col1\" >navig -> navig________</td>\n",
       "      <td id=\"T_5dd78_row1_col2\" class=\"data row1 col2\" >myst -> mystesiow____</td>\n",
       "      <td id=\"T_5dd78_row1_col3\" class=\"data row1 col3\" >synth -> synthutiol___</td>\n",
       "      <td id=\"T_5dd78_row1_col4\" class=\"data row1 col4\" >probab -> probabes_____</td>\n",
       "    </tr>\n",
       "    <tr>\n",
       "      <th id=\"T_5dd78_level0_row2\" class=\"row_heading level0 row2\" >2</th>\n",
       "      <td id=\"T_5dd78_row2_col0\" class=\"data row2 col0\" >neur -> neurin_______</td>\n",
       "      <td id=\"T_5dd78_row2_col1\" class=\"data row2 col1\" >advent -> advente______</td>\n",
       "      <td id=\"T_5dd78_row2_col2\" class=\"data row2 col2\" >inter -> inter________</td>\n",
       "      <td id=\"T_5dd78_row2_col3\" class=\"data row2 col3\" >artif -> artifivs_____</td>\n",
       "      <td id=\"T_5dd78_row2_col4\" class=\"data row2 col4\" >struct -> structiom____</td>\n",
       "    </tr>\n",
       "    <tr>\n",
       "      <th id=\"T_5dd78_level0_row3\" class=\"row_heading level0 row3\" >3</th>\n",
       "      <td id=\"T_5dd78_row3_col0\" class=\"data row3 col0\" >engin -> enginlettsl__</td>\n",
       "      <td id=\"T_5dd78_row3_col1\" class=\"data row3 col1\" >analy -> analy________</td>\n",
       "      <td id=\"T_5dd78_row3_col2\" class=\"data row3 col2\" >comput -> computed_____</td>\n",
       "      <td id=\"T_5dd78_row3_col3\" class=\"data row3 col3\" >medic -> medicenm_____</td>\n",
       "      <td id=\"T_5dd78_row3_col4\" class=\"data row3 col4\" >bioeng -> bioeng_______</td>\n",
       "    </tr>\n",
       "    <tr>\n",
       "      <th id=\"T_5dd78_level0_row4\" class=\"row_heading level0 row4\" >4</th>\n",
       "      <td id=\"T_5dd78_row4_col0\" class=\"data row4 col0\" >tran -> trandeled____</td>\n",
       "      <td id=\"T_5dd78_row4_col1\" class=\"data row4 col1\" >opti -> optiice______</td>\n",
       "      <td id=\"T_5dd78_row4_col2\" class=\"data row4 col2\" >const -> constatehan__</td>\n",
       "      <td id=\"T_5dd78_row4_col3\" class=\"data row4 col3\" >inform -> inform_______</td>\n",
       "      <td id=\"T_5dd78_row4_col4\" class=\"data row4 col4\" >transf -> transfetc____</td>\n",
       "    </tr>\n",
       "    <tr>\n",
       "      <th id=\"T_5dd78_level0_row5\" class=\"row_heading level0 row5\" >5</th>\n",
       "      <td id=\"T_5dd78_row5_col0\" class=\"data row5 col0\" >explor -> explora______</td>\n",
       "      <td id=\"T_5dd78_row5_col1\" class=\"data row5 col1\" >net -> netxoga______</td>\n",
       "      <td id=\"T_5dd78_row5_col2\" class=\"data row5 col2\" >gener -> genergede____</td>\n",
       "      <td id=\"T_5dd78_row5_col3\" class=\"data row5 col3\" >theor -> theor________</td>\n",
       "      <td id=\"T_5dd78_row5_col4\" class=\"data row5 col4\" >algor -> algorc_______</td>\n",
       "    </tr>\n",
       "    <tr>\n",
       "      <th id=\"T_5dd78_level0_row6\" class=\"row_heading level0 row6\" >6</th>\n",
       "      <td id=\"T_5dd78_row6_col0\" class=\"data row6 col0\" >creat -> creatum______</td>\n",
       "      <td id=\"T_5dd78_row6_col1\" class=\"data row6 col1\" >vis -> vismimp______</td>\n",
       "      <td id=\"T_5dd78_row6_col2\" class=\"data row6 col2\" >innov -> innovs_______</td>\n",
       "      <td id=\"T_5dd78_row6_col3\" class=\"data row6 col3\" >physic -> physic_______</td>\n",
       "      <td id=\"T_5dd78_row6_col4\" class=\"data row6 col4\" >neuro -> neurorar_____</td>\n",
       "    </tr>\n",
       "    <tr>\n",
       "      <th id=\"T_5dd78_level0_row7\" class=\"row_heading level0 row7\" >7</th>\n",
       "      <td id=\"T_5dd78_row7_col0\" class=\"data row7 col0\" >devel -> devellie_____</td>\n",
       "      <td id=\"T_5dd78_row7_col1\" class=\"data row7 col1\" >tranquil -> tranquilen___</td>\n",
       "      <td id=\"T_5dd78_row7_col2\" class=\"data row7 col2\" >system -> systemiv_____</td>\n",
       "      <td id=\"T_5dd78_row7_col3\" class=\"data row7 col3\" >chem -> chemocanes___</td>\n",
       "      <td id=\"T_5dd78_row7_col4\" class=\"data row7 col4\" >cognit -> cognit_______</td>\n",
       "    </tr>\n",
       "    <tr>\n",
       "      <th id=\"T_5dd78_level0_row8\" class=\"row_heading level0 row8\" >8</th>\n",
       "      <td id=\"T_5dd78_row8_col0\" class=\"data row8 col0\" >solut -> solut________</td>\n",
       "      <td id=\"T_5dd78_row8_col1\" class=\"data row8 col1\" >experi -> experini_____</td>\n",
       "      <td id=\"T_5dd78_row8_col2\" class=\"data row8 col2\" >quant -> quante_______</td>\n",
       "      <td id=\"T_5dd78_row8_col3\" class=\"data row8 col3\" >astro -> astrotc______</td>\n",
       "      <td id=\"T_5dd78_row8_col4\" class=\"data row8 col4\" >planet -> planet_______</td>\n",
       "    </tr>\n",
       "    <tr>\n",
       "      <th id=\"T_5dd78_level0_row9\" class=\"row_heading level0 row9\" >9</th>\n",
       "      <td id=\"T_5dd78_row9_col0\" class=\"data row9 col0\" >commu -> commuertar___</td>\n",
       "      <td id=\"T_5dd78_row9_col1\" class=\"data row9 col1\" >futur -> futuri_______</td>\n",
       "      <td id=\"T_5dd78_row9_col2\" class=\"data row9 col2\" >tech -> techars______</td>\n",
       "      <td id=\"T_5dd78_row9_col3\" class=\"data row9 col3\" >micro -> microat______</td>\n",
       "      <td id=\"T_5dd78_row9_col4\" class=\"data row9 col4\" >eco -> econgur______</td>\n",
       "    </tr>\n",
       "  </tbody>\n",
       "</table>\n"
      ],
      "text/plain": [
       "<pandas.io.formats.style.Styler at 0x211e5c6ce50>"
      ]
     },
     "metadata": {},
     "output_type": "display_data"
    }
   ],
   "source": [
    "# Test the model on 50 words\n",
    "test_model(model)"
   ]
  },
  {
   "cell_type": "code",
   "execution_count": null,
   "id": "aec0603d-e71f-4321-b508-fda38dda77d6",
   "metadata": {},
   "outputs": [
    {
     "name": "stdout",
     "output_type": "stream",
     "text": [
      "Initializing model with embed_dim=64, hidden_size=128, num_layers=1...\n",
      "Model 1 initialized.\n"
     ]
    }
   ],
   "source": [
    "print(\"Initializing model with embed_dim=64, hidden_size=128, num_layers=1...\")\n",
    "model_1 = autocompleteModel(alphabet_size=27, embed_dim=64, hidden_size=128, num_layers=1, device=device)\n",
    "print(\"Model 1 initialized.\")\n",
    "loss_log_1 = model_1.trainModel(vocab, epochs=10, batch_size=100)\n",
    "print(\"Training for Model 1 completed.\")"
   ]
  },
  {
   "cell_type": "code",
   "execution_count": 6,
   "id": "ca431862-87cb-40bf-8cd0-669554a54dff",
   "metadata": {},
   "outputs": [
    {
     "ename": "NameError",
     "evalue": "name 'model' is not defined",
     "output_type": "error",
     "traceback": [
      "\u001b[1;31m---------------------------------------------------------------------------\u001b[0m",
      "\u001b[1;31mNameError\u001b[0m                                 Traceback (most recent call last)",
      "Cell \u001b[1;32mIn[6], line 11\u001b[0m\n\u001b[0;32m      2\u001b[0m sample \u001b[38;5;241m=\u001b[39m [\n\u001b[0;32m      3\u001b[0m     \u001b[38;5;124m\"\u001b[39m\u001b[38;5;124muniv\u001b[39m\u001b[38;5;124m\"\u001b[39m, \u001b[38;5;124m\"\u001b[39m\u001b[38;5;124mmath\u001b[39m\u001b[38;5;124m\"\u001b[39m, \u001b[38;5;124m\"\u001b[39m\u001b[38;5;124mneur\u001b[39m\u001b[38;5;124m\"\u001b[39m, \u001b[38;5;124m\"\u001b[39m\u001b[38;5;124mengin\u001b[39m\u001b[38;5;124m\"\u001b[39m, \u001b[38;5;124m\"\u001b[39m\u001b[38;5;124mtran\u001b[39m\u001b[38;5;124m\"\u001b[39m, \u001b[38;5;124m\"\u001b[39m\u001b[38;5;124mexplor\u001b[39m\u001b[38;5;124m\"\u001b[39m, \u001b[38;5;124m\"\u001b[39m\u001b[38;5;124mcreat\u001b[39m\u001b[38;5;124m\"\u001b[39m, \u001b[38;5;124m\"\u001b[39m\u001b[38;5;124mdevel\u001b[39m\u001b[38;5;124m\"\u001b[39m, \u001b[38;5;124m\"\u001b[39m\u001b[38;5;124msolut\u001b[39m\u001b[38;5;124m\"\u001b[39m, \u001b[38;5;124m\"\u001b[39m\u001b[38;5;124mcommu\u001b[39m\u001b[38;5;124m\"\u001b[39m,\n\u001b[0;32m      4\u001b[0m     \u001b[38;5;124m\"\u001b[39m\u001b[38;5;124minno\u001b[39m\u001b[38;5;124m\"\u001b[39m, \u001b[38;5;124m\"\u001b[39m\u001b[38;5;124mnavig\u001b[39m\u001b[38;5;124m\"\u001b[39m, \u001b[38;5;124m\"\u001b[39m\u001b[38;5;124madvent\u001b[39m\u001b[38;5;124m\"\u001b[39m, \u001b[38;5;124m\"\u001b[39m\u001b[38;5;124manaly\u001b[39m\u001b[38;5;124m\"\u001b[39m, \u001b[38;5;124m\"\u001b[39m\u001b[38;5;124mopti\u001b[39m\u001b[38;5;124m\"\u001b[39m, \u001b[38;5;124m\"\u001b[39m\u001b[38;5;124mnet\u001b[39m\u001b[38;5;124m\"\u001b[39m, \u001b[38;5;124m\"\u001b[39m\u001b[38;5;124mvis\u001b[39m\u001b[38;5;124m\"\u001b[39m, \u001b[38;5;124m\"\u001b[39m\u001b[38;5;124mtranquil\u001b[39m\u001b[38;5;124m\"\u001b[39m, \u001b[38;5;124m\"\u001b[39m\u001b[38;5;124mexperi\u001b[39m\u001b[38;5;124m\"\u001b[39m, \u001b[38;5;124m\"\u001b[39m\u001b[38;5;124mfutur\u001b[39m\u001b[38;5;124m\"\u001b[39m,\n\u001b[1;32m   (...)\u001b[0m\n\u001b[0;32m      7\u001b[0m     \u001b[38;5;124m\"\u001b[39m\u001b[38;5;124mmacro\u001b[39m\u001b[38;5;124m\"\u001b[39m, \u001b[38;5;124m\"\u001b[39m\u001b[38;5;124mprobab\u001b[39m\u001b[38;5;124m\"\u001b[39m, \u001b[38;5;124m\"\u001b[39m\u001b[38;5;124mstruct\u001b[39m\u001b[38;5;124m\"\u001b[39m, \u001b[38;5;124m\"\u001b[39m\u001b[38;5;124mbioeng\u001b[39m\u001b[38;5;124m\"\u001b[39m, \u001b[38;5;124m\"\u001b[39m\u001b[38;5;124mtransf\u001b[39m\u001b[38;5;124m\"\u001b[39m, \u001b[38;5;124m\"\u001b[39m\u001b[38;5;124malgor\u001b[39m\u001b[38;5;124m\"\u001b[39m, \u001b[38;5;124m\"\u001b[39m\u001b[38;5;124mneuro\u001b[39m\u001b[38;5;124m\"\u001b[39m, \u001b[38;5;124m\"\u001b[39m\u001b[38;5;124mcognit\u001b[39m\u001b[38;5;124m\"\u001b[39m, \u001b[38;5;124m\"\u001b[39m\u001b[38;5;124mplanet\u001b[39m\u001b[38;5;124m\"\u001b[39m, \u001b[38;5;124m\"\u001b[39m\u001b[38;5;124meco\u001b[39m\u001b[38;5;124m\"\u001b[39m\n\u001b[0;32m      8\u001b[0m ]\n\u001b[0;32m     10\u001b[0m \u001b[38;5;66;03m# Assuming model.autocomplete returns a list of completed words\u001b[39;00m\n\u001b[1;32m---> 11\u001b[0m completed_words \u001b[38;5;241m=\u001b[39m \u001b[43mmodel\u001b[49m\u001b[38;5;241m.\u001b[39mautocomplete(sample)\n\u001b[0;32m     13\u001b[0m \u001b[38;5;66;03m# Beautifully print the output line by line for each input word and the prediction\u001b[39;00m\n\u001b[0;32m     14\u001b[0m \u001b[38;5;28;01mfor\u001b[39;00m input_word, predicted_word \u001b[38;5;129;01min\u001b[39;00m \u001b[38;5;28mzip\u001b[39m(sample, completed_words):\n",
      "\u001b[1;31mNameError\u001b[0m: name 'model' is not defined"
     ]
    }
   ],
   "source": [
    "# Test the model on 50 words\n",
    "test_model(model_1)"
   ]
  },
  {
   "cell_type": "code",
   "execution_count": 16,
   "id": "6533924d-6217-4587-b0fc-e7ab217ca760",
   "metadata": {},
   "outputs": [
    {
     "name": "stdout",
     "output_type": "stream",
     "text": [
      "Device: cuda\n",
      "autocompleteModel(\n",
      "  (embedding): Embedding(27, 64)\n",
      "  (lstm): LSTM(64, 128, num_layers=2)\n",
      "  (fc): Linear(in_features=128, out_features=27, bias=True)\n",
      ")\n",
      "Epoch 1, Loss: 16.277488708496094\n",
      "Epoch 2, Loss: 14.185486793518066\n",
      "Epoch 3, Loss: 13.017935752868652\n",
      "Epoch 4, Loss: 12.039627075195312\n",
      "Epoch 5, Loss: 11.655515670776367\n",
      "Epoch 6, Loss: 11.62802791595459\n"
     ]
    },
    {
     "ename": "KeyboardInterrupt",
     "evalue": "",
     "output_type": "error",
     "traceback": [
      "\u001b[1;31m---------------------------------------------------------------------------\u001b[0m",
      "\u001b[1;31mKeyboardInterrupt\u001b[0m                         Traceback (most recent call last)",
      "Cell \u001b[1;32mIn[16], line 10\u001b[0m\n\u001b[0;32m      8\u001b[0m model \u001b[38;5;241m=\u001b[39m autocompleteModel(alphabet_size, embed_dim, hidden_size, num_layers, device)\n\u001b[0;32m      9\u001b[0m \u001b[38;5;28mprint\u001b[39m(model)\n\u001b[1;32m---> 10\u001b[0m loss_log \u001b[38;5;241m=\u001b[39m \u001b[43mmodel\u001b[49m\u001b[38;5;241;43m.\u001b[39;49m\u001b[43mtrainModel\u001b[49m\u001b[43m(\u001b[49m\u001b[43mvocab\u001b[49m\u001b[43m,\u001b[49m\u001b[43m \u001b[49m\u001b[43mepochs\u001b[49m\u001b[38;5;241;43m=\u001b[39;49m\u001b[38;5;241;43m10\u001b[39;49m\u001b[43m,\u001b[49m\u001b[43m \u001b[49m\u001b[43mbatch_size\u001b[49m\u001b[38;5;241;43m=\u001b[39;49m\u001b[38;5;241;43m100\u001b[39;49m\u001b[43m,\u001b[49m\u001b[43m \u001b[49m\u001b[43mlearning_rate\u001b[49m\u001b[38;5;241;43m=\u001b[39;49m\u001b[38;5;241;43m0.005\u001b[39;49m\u001b[43m)\u001b[49m\n",
      "Cell \u001b[1;32mIn[14], line 53\u001b[0m, in \u001b[0;36mautocompleteModel.trainModel\u001b[1;34m(self, vocab, epochs, batch_size, learning_rate)\u001b[0m\n\u001b[0;32m     50\u001b[0m input_char \u001b[38;5;241m=\u001b[39m input_chars[c]\u001b[38;5;241m.\u001b[39munsqueeze(\u001b[38;5;241m0\u001b[39m)\u001b[38;5;241m.\u001b[39mto(\u001b[38;5;28mself\u001b[39m\u001b[38;5;241m.\u001b[39mdevice)\n\u001b[0;32m     51\u001b[0m target_char \u001b[38;5;241m=\u001b[39m target_chars[c]\u001b[38;5;241m.\u001b[39munsqueeze(\u001b[38;5;241m0\u001b[39m)\u001b[38;5;241m.\u001b[39mto(\u001b[38;5;28mself\u001b[39m\u001b[38;5;241m.\u001b[39mdevice)\n\u001b[1;32m---> 53\u001b[0m output, hidden_state, cell_state \u001b[38;5;241m=\u001b[39m \u001b[38;5;28;43mself\u001b[39;49m\u001b[38;5;241;43m.\u001b[39;49m\u001b[43mforward\u001b[49m\u001b[43m(\u001b[49m\u001b[43minput_char\u001b[49m\u001b[43m,\u001b[49m\u001b[43m \u001b[49m\u001b[43mhidden_state\u001b[49m\u001b[43m,\u001b[49m\u001b[43m \u001b[49m\u001b[43mcell_state\u001b[49m\u001b[43m)\u001b[49m\n\u001b[0;32m     54\u001b[0m loss \u001b[38;5;241m=\u001b[39m criterion(output, target_char)\n\u001b[0;32m     55\u001b[0m batch_loss \u001b[38;5;241m+\u001b[39m\u001b[38;5;241m=\u001b[39m loss\n",
      "Cell \u001b[1;32mIn[14], line 18\u001b[0m, in \u001b[0;36mautocompleteModel.forward\u001b[1;34m(self, character, hidden_state, cell_state)\u001b[0m\n\u001b[0;32m     17\u001b[0m \u001b[38;5;28;01mdef\u001b[39;00m \u001b[38;5;21mforward\u001b[39m(\u001b[38;5;28mself\u001b[39m, character, hidden_state, cell_state):\n\u001b[1;32m---> 18\u001b[0m     embedded \u001b[38;5;241m=\u001b[39m \u001b[38;5;28;43mself\u001b[39;49m\u001b[38;5;241;43m.\u001b[39;49m\u001b[43membedding\u001b[49m\u001b[43m(\u001b[49m\u001b[43mcharacter\u001b[49m\u001b[43m)\u001b[49m\u001b[38;5;241m.\u001b[39mto(\u001b[38;5;28mself\u001b[39m\u001b[38;5;241m.\u001b[39mdevice)\n\u001b[0;32m     19\u001b[0m     lstm_out, (hidden_state, cell_state) \u001b[38;5;241m=\u001b[39m \u001b[38;5;28mself\u001b[39m\u001b[38;5;241m.\u001b[39mlstm(embedded\u001b[38;5;241m.\u001b[39mview(\u001b[38;5;241m1\u001b[39m, \u001b[38;5;241m1\u001b[39m, \u001b[38;5;241m-\u001b[39m\u001b[38;5;241m1\u001b[39m), (hidden_state, cell_state))\n\u001b[0;32m     20\u001b[0m     output \u001b[38;5;241m=\u001b[39m \u001b[38;5;28mself\u001b[39m\u001b[38;5;241m.\u001b[39mfc(lstm_out\u001b[38;5;241m.\u001b[39mview(\u001b[38;5;241m1\u001b[39m, \u001b[38;5;241m-\u001b[39m\u001b[38;5;241m1\u001b[39m))\n",
      "File \u001b[1;32mc:\\Users\\shami\\AppData\\Local\\Programs\\Python\\Python311\\Lib\\site-packages\\torch\\nn\\modules\\module.py:1553\u001b[0m, in \u001b[0;36mModule._wrapped_call_impl\u001b[1;34m(self, *args, **kwargs)\u001b[0m\n\u001b[0;32m   1551\u001b[0m     \u001b[38;5;28;01mreturn\u001b[39;00m \u001b[38;5;28mself\u001b[39m\u001b[38;5;241m.\u001b[39m_compiled_call_impl(\u001b[38;5;241m*\u001b[39margs, \u001b[38;5;241m*\u001b[39m\u001b[38;5;241m*\u001b[39mkwargs)  \u001b[38;5;66;03m# type: ignore[misc]\u001b[39;00m\n\u001b[0;32m   1552\u001b[0m \u001b[38;5;28;01melse\u001b[39;00m:\n\u001b[1;32m-> 1553\u001b[0m     \u001b[38;5;28;01mreturn\u001b[39;00m \u001b[38;5;28;43mself\u001b[39;49m\u001b[38;5;241;43m.\u001b[39;49m\u001b[43m_call_impl\u001b[49m\u001b[43m(\u001b[49m\u001b[38;5;241;43m*\u001b[39;49m\u001b[43margs\u001b[49m\u001b[43m,\u001b[49m\u001b[43m \u001b[49m\u001b[38;5;241;43m*\u001b[39;49m\u001b[38;5;241;43m*\u001b[39;49m\u001b[43mkwargs\u001b[49m\u001b[43m)\u001b[49m\n",
      "File \u001b[1;32mc:\\Users\\shami\\AppData\\Local\\Programs\\Python\\Python311\\Lib\\site-packages\\torch\\nn\\modules\\module.py:1562\u001b[0m, in \u001b[0;36mModule._call_impl\u001b[1;34m(self, *args, **kwargs)\u001b[0m\n\u001b[0;32m   1557\u001b[0m \u001b[38;5;66;03m# If we don't have any hooks, we want to skip the rest of the logic in\u001b[39;00m\n\u001b[0;32m   1558\u001b[0m \u001b[38;5;66;03m# this function, and just call forward.\u001b[39;00m\n\u001b[0;32m   1559\u001b[0m \u001b[38;5;28;01mif\u001b[39;00m \u001b[38;5;129;01mnot\u001b[39;00m (\u001b[38;5;28mself\u001b[39m\u001b[38;5;241m.\u001b[39m_backward_hooks \u001b[38;5;129;01mor\u001b[39;00m \u001b[38;5;28mself\u001b[39m\u001b[38;5;241m.\u001b[39m_backward_pre_hooks \u001b[38;5;129;01mor\u001b[39;00m \u001b[38;5;28mself\u001b[39m\u001b[38;5;241m.\u001b[39m_forward_hooks \u001b[38;5;129;01mor\u001b[39;00m \u001b[38;5;28mself\u001b[39m\u001b[38;5;241m.\u001b[39m_forward_pre_hooks\n\u001b[0;32m   1560\u001b[0m         \u001b[38;5;129;01mor\u001b[39;00m _global_backward_pre_hooks \u001b[38;5;129;01mor\u001b[39;00m _global_backward_hooks\n\u001b[0;32m   1561\u001b[0m         \u001b[38;5;129;01mor\u001b[39;00m _global_forward_hooks \u001b[38;5;129;01mor\u001b[39;00m _global_forward_pre_hooks):\n\u001b[1;32m-> 1562\u001b[0m     \u001b[38;5;28;01mreturn\u001b[39;00m \u001b[43mforward_call\u001b[49m\u001b[43m(\u001b[49m\u001b[38;5;241;43m*\u001b[39;49m\u001b[43margs\u001b[49m\u001b[43m,\u001b[49m\u001b[43m \u001b[49m\u001b[38;5;241;43m*\u001b[39;49m\u001b[38;5;241;43m*\u001b[39;49m\u001b[43mkwargs\u001b[49m\u001b[43m)\u001b[49m\n\u001b[0;32m   1564\u001b[0m \u001b[38;5;28;01mtry\u001b[39;00m:\n\u001b[0;32m   1565\u001b[0m     result \u001b[38;5;241m=\u001b[39m \u001b[38;5;28;01mNone\u001b[39;00m\n",
      "File \u001b[1;32mc:\\Users\\shami\\AppData\\Local\\Programs\\Python\\Python311\\Lib\\site-packages\\torch\\nn\\modules\\sparse.py:164\u001b[0m, in \u001b[0;36mEmbedding.forward\u001b[1;34m(self, input)\u001b[0m\n\u001b[0;32m    163\u001b[0m \u001b[38;5;28;01mdef\u001b[39;00m \u001b[38;5;21mforward\u001b[39m(\u001b[38;5;28mself\u001b[39m, \u001b[38;5;28minput\u001b[39m: Tensor) \u001b[38;5;241m-\u001b[39m\u001b[38;5;241m>\u001b[39m Tensor:\n\u001b[1;32m--> 164\u001b[0m     \u001b[38;5;28;01mreturn\u001b[39;00m \u001b[43mF\u001b[49m\u001b[38;5;241;43m.\u001b[39;49m\u001b[43membedding\u001b[49m\u001b[43m(\u001b[49m\n\u001b[0;32m    165\u001b[0m \u001b[43m        \u001b[49m\u001b[38;5;28;43minput\u001b[39;49m\u001b[43m,\u001b[49m\u001b[43m \u001b[49m\u001b[38;5;28;43mself\u001b[39;49m\u001b[38;5;241;43m.\u001b[39;49m\u001b[43mweight\u001b[49m\u001b[43m,\u001b[49m\u001b[43m \u001b[49m\u001b[38;5;28;43mself\u001b[39;49m\u001b[38;5;241;43m.\u001b[39;49m\u001b[43mpadding_idx\u001b[49m\u001b[43m,\u001b[49m\u001b[43m \u001b[49m\u001b[38;5;28;43mself\u001b[39;49m\u001b[38;5;241;43m.\u001b[39;49m\u001b[43mmax_norm\u001b[49m\u001b[43m,\u001b[49m\n\u001b[0;32m    166\u001b[0m \u001b[43m        \u001b[49m\u001b[38;5;28;43mself\u001b[39;49m\u001b[38;5;241;43m.\u001b[39;49m\u001b[43mnorm_type\u001b[49m\u001b[43m,\u001b[49m\u001b[43m \u001b[49m\u001b[38;5;28;43mself\u001b[39;49m\u001b[38;5;241;43m.\u001b[39;49m\u001b[43mscale_grad_by_freq\u001b[49m\u001b[43m,\u001b[49m\u001b[43m \u001b[49m\u001b[38;5;28;43mself\u001b[39;49m\u001b[38;5;241;43m.\u001b[39;49m\u001b[43msparse\u001b[49m\u001b[43m)\u001b[49m\n",
      "File \u001b[1;32mc:\\Users\\shami\\AppData\\Local\\Programs\\Python\\Python311\\Lib\\site-packages\\torch\\nn\\functional.py:2267\u001b[0m, in \u001b[0;36membedding\u001b[1;34m(input, weight, padding_idx, max_norm, norm_type, scale_grad_by_freq, sparse)\u001b[0m\n\u001b[0;32m   2261\u001b[0m     \u001b[38;5;66;03m# Note [embedding_renorm set_grad_enabled]\u001b[39;00m\n\u001b[0;32m   2262\u001b[0m     \u001b[38;5;66;03m# XXX: equivalent to\u001b[39;00m\n\u001b[0;32m   2263\u001b[0m     \u001b[38;5;66;03m# with torch.no_grad():\u001b[39;00m\n\u001b[0;32m   2264\u001b[0m     \u001b[38;5;66;03m#   torch.embedding_renorm_\u001b[39;00m\n\u001b[0;32m   2265\u001b[0m     \u001b[38;5;66;03m# remove once script supports set_grad_enabled\u001b[39;00m\n\u001b[0;32m   2266\u001b[0m     _no_grad_embedding_renorm_(weight, \u001b[38;5;28minput\u001b[39m, max_norm, norm_type)\n\u001b[1;32m-> 2267\u001b[0m \u001b[38;5;28;01mreturn\u001b[39;00m \u001b[43mtorch\u001b[49m\u001b[38;5;241;43m.\u001b[39;49m\u001b[43membedding\u001b[49m\u001b[43m(\u001b[49m\u001b[43mweight\u001b[49m\u001b[43m,\u001b[49m\u001b[43m \u001b[49m\u001b[38;5;28;43minput\u001b[39;49m\u001b[43m,\u001b[49m\u001b[43m \u001b[49m\u001b[43mpadding_idx\u001b[49m\u001b[43m,\u001b[49m\u001b[43m \u001b[49m\u001b[43mscale_grad_by_freq\u001b[49m\u001b[43m,\u001b[49m\u001b[43m \u001b[49m\u001b[43msparse\u001b[49m\u001b[43m)\u001b[49m\n",
      "\u001b[1;31mKeyboardInterrupt\u001b[0m: "
     ]
    }
   ],
   "source": [
    "\n",
    "# Initialize the second model\n",
    "print(\"Initializing model with embed_dim=128, hidden_size=256, num_layers=2...\")\n",
    "model_2 = autocompleteModel(alphabet_size=27, embed_dim=128, hidden_size=256, num_layers=2, device=device)\n",
    "print(\"Model 2 initialized.\")\n",
    "loss_log_2 = model_2.trainModel(vocab, epochs=15, batch_size=100)\n",
    "print(\"Training for Model 2 completed.\")"
   ]
  },
  {
   "cell_type": "code",
   "execution_count": null,
   "id": "44d124b6",
   "metadata": {},
   "outputs": [],
   "source": [
    "# Test the model on 50 words\n",
    "test_model(model_2)"
   ]
  }
 ],
 "metadata": {
  "kernelspec": {
   "display_name": "Python 3",
   "language": "python",
   "name": "python3"
  },
  "language_info": {
   "codemirror_mode": {
    "name": "ipython",
    "version": 3
   },
   "file_extension": ".py",
   "mimetype": "text/x-python",
   "name": "python",
   "nbconvert_exporter": "python",
   "pygments_lexer": "ipython3",
   "version": "3.11.5"
  }
 },
 "nbformat": 4,
 "nbformat_minor": 5
}
