{
 "cells": [
  {
   "cell_type": "code",
   "execution_count": null,
   "metadata": {},
   "outputs": [],
   "source": [
    "import subprocess\n",
    "import sys\n",
    "import os\n",
    "import zipfile\n",
    "import torch\n",
    "import torch.nn as nn\n",
    "import torch.optim as optim\n",
    "from torch.utils.data import DataLoader, Dataset\n",
    "from torch.nn.utils.rnn import pad_sequence\n",
    "import numpy as np\n",
    "import string\n",
    "import random\n",
    "import matplotlib.pyplot as plt"
   ]
  },
  {
   "cell_type": "code",
   "execution_count": 8,
   "metadata": {},
   "outputs": [
    {
     "name": "stdout",
     "output_type": "stream",
     "text": [
      "Using curl to download the file...\n",
      "Download completed: spa-eng.zip\n"
     ]
    }
   ],
   "source": [
    "# URL to download from\n",
    "url = \"http://www.manythings.org/anki/spa-eng.zip\"\n",
    "local_filename = \"spa-eng.zip\"\n",
    "\n",
    "# Check if curl is available on the system\n",
    "def has_curl():\n",
    "    try:\n",
    "        # Check if the curl command is available\n",
    "        subprocess.run([\"curl\", \"--version\"], check=True, stdout=subprocess.PIPE, stderr=subprocess.PIPE)\n",
    "        return True\n",
    "    except FileNotFoundError:\n",
    "        return False\n",
    "\n",
    "# Function to download the file using curl\n",
    "def download_with_curl(url, local_filename):\n",
    "    try:\n",
    "        print(\"Using curl to download the file...\")\n",
    "        subprocess.run([\"curl\", \"-o\", local_filename, url], check=True)\n",
    "        print(f\"Download completed: {local_filename}\")\n",
    "    except subprocess.CalledProcessError as e:\n",
    "        print(f\"Error downloading file: {e}\")\n",
    "        sys.exit(1)\n",
    "\n",
    "# If curl is available, download using curl\n",
    "if has_curl():\n",
    "    download_with_curl(url, local_filename)\n",
    "else:\n",
    "    print(\"Curl is not available on this system. Please install curl or download manually.\")\n"
   ]
  },
  {
   "cell_type": "code",
   "execution_count": 9,
   "metadata": {},
   "outputs": [
    {
     "name": "stdout",
     "output_type": "stream",
     "text": [
      "Extraction completed: Files extracted to 'data'\n"
     ]
    }
   ],
   "source": [
    "# Define the path to the ZIP file and the extraction directory\n",
    "zip_file_path = 'spa-eng.zip'\n",
    "extract_dir = 'data'  # You can change this to your desired extraction directory\n",
    "\n",
    "# Create the extraction directory if it doesn't exist\n",
    "os.makedirs(extract_dir, exist_ok=True)\n",
    "\n",
    "# Extract the ZIP file\n",
    "try:\n",
    "    with zipfile.ZipFile(zip_file_path, 'r') as zip_ref:\n",
    "        zip_ref.extractall(extract_dir)\n",
    "    print(f\"Extraction completed: Files extracted to '{extract_dir}'\")\n",
    "except zipfile.BadZipFile:\n",
    "    print(\"Error: The ZIP file is not valid.\")\n",
    "except Exception as e:\n",
    "    print(f\"Error during extraction: {e}\")\n"
   ]
  },
  {
   "cell_type": "code",
   "execution_count": null,
   "metadata": {},
   "outputs": [],
   "source": [
    "# Path to translation file\n",
    "path_to_data = 'data/spa.txt'\n",
    "\n",
    "# Read file\n",
    "translation_file = open(path_to_data,\"r\", encoding='utf-8')\n",
    "raw_data = translation_file.read()\n",
    "translation_file.close()\n",
    "\n",
    "# Parse data\n",
    "raw_data = raw_data.split('\\n')\n",
    "pairs = [sentence.split('\\t') for sentence in  raw_data]\n",
    "pairs = pairs[1000:20000]"
   ]
  }
 ],
 "metadata": {
  "kernelspec": {
   "display_name": "Python 3",
   "language": "python",
   "name": "python3"
  },
  "language_info": {
   "codemirror_mode": {
    "name": "ipython",
    "version": 3
   },
   "file_extension": ".py",
   "mimetype": "text/x-python",
   "name": "python",
   "nbconvert_exporter": "python",
   "pygments_lexer": "ipython3",
   "version": "3.11.5"
  }
 },
 "nbformat": 4,
 "nbformat_minor": 2
}
